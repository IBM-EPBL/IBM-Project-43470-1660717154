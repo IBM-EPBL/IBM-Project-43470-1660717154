{
 "cells": [
  {
   "cell_type": "code",
   "execution_count": null,
   "id": "6e32f32e",
   "metadata": {},
   "outputs": [],
   "source": [
    "import warnings\n",
    "        warnings.filterwarnings('ignore')\n",
    "\n",
    "        import tensorflow as tf\n",
    "        classifierLoad = tf.keras.models.load_model('firemodel.h5')"
   ]
  },
  {
   "cell_type": "code",
   "execution_count": null,
   "id": "746298da",
   "metadata": {},
   "outputs": [],
   "source": [
    " test_image = image.load_img('static/Out/Test.jpg', target_size=(200, 200))\n",
    "        img1 = cv2.imread('static/Out/Test.jpg')\n",
    "        # test_image = image.img_to_array(test_image)\n",
    "        test_image = np.expand_dims(test_image, axis=0)\n",
    "        result = classifierLoad.predict(test_image)"
   ]
  },
  {
   "cell_type": "code",
   "execution_count": null,
   "id": "30bbb77f",
   "metadata": {},
   "outputs": [],
   "source": [
    "out = ''\n",
    "        pre = ''\n",
    "        if result[0][0] == 1:\n",
    "\n",
    "            out = \"Cyclone\"\n",
    "\n",
    "        elif result[0][1] == 1:\n",
    "\n",
    "            out = \"Earthquake\"\n",
    "\n",
    "        elif result[0][2] == 1:\n",
    "\n",
    "            out = \"Flood\"\n",
    "\n",
    "        elif result[0][3] == 1:\n",
    "\n",
    "            out = \"Wildfire\""
   ]
  }
 ],
 "metadata": {
  "kernelspec": {
   "display_name": "Python 3 (ipykernel)",
   "language": "python",
   "name": "python3"
  },
  "language_info": {
   "codemirror_mode": {
    "name": "ipython",
    "version": 3
   },
   "file_extension": ".py",
   "mimetype": "text/x-python",
   "name": "python",
   "nbconvert_exporter": "python",
   "pygments_lexer": "ipython3",
   "version": "3.9.12"
  }
 },
 "nbformat": 4,
 "nbformat_minor": 5
}
